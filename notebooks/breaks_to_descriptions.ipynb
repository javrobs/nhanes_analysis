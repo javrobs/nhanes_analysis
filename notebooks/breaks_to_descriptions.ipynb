{
 "cells": [
  {
   "cell_type": "code",
   "execution_count": 1,
   "id": "6d749ef1",
   "metadata": {},
   "outputs": [],
   "source": [
    "from sqlalchemy import create_engine,text,inspect\n",
    "from sqlalchemy.orm import Session\n",
    "import numpy"
   ]
  },
  {
   "cell_type": "code",
   "execution_count": 2,
   "id": "ffe75d59",
   "metadata": {},
   "outputs": [],
   "source": [
    "engine=create_engine(\"sqlite:///../resources/nhanes.db\")"
   ]
  },
  {
   "cell_type": "code",
   "execution_count": 3,
   "id": "076640f2",
   "metadata": {},
   "outputs": [],
   "source": [
    "connection=engine.connect()\n",
    "session=Session(engine)\n",
    "inspector=inspect(engine)"
   ]
  },
  {
   "cell_type": "code",
   "execution_count": 4,
   "id": "379ccc0a",
   "metadata": {},
   "outputs": [
    {
     "data": {
      "text/plain": [
       "['age_groups_table',\n",
       " 'annual_income_table',\n",
       " 'citizenship_status_table',\n",
       " 'country_of_birth_table',\n",
       " 'data_release_cycle_table',\n",
       " 'education_level_adults_table',\n",
       " 'gender_table',\n",
       " 'marital_status_table',\n",
       " 'race_ethnic_origin_table',\n",
       " 'ratio_of_family_income_to_poverty_table',\n",
       " 'served_in_the_us_armed_forces_table',\n",
       " 'six_month_time_period_table',\n",
       " 'total_number_of_people_table']"
      ]
     },
     "execution_count": 4,
     "metadata": {},
     "output_type": "execute_result"
    }
   ],
   "source": [
    "name_list=inspector.get_table_names().copy()\n",
    "name_list.pop(9)\n",
    "name_list.pop(7)\n",
    "name_list.pop(1)\n",
    "name_list"
   ]
  },
  {
   "cell_type": "code",
   "execution_count": 5,
   "id": "91561873",
   "metadata": {},
   "outputs": [],
   "source": [
    "connection=engine.connect()"
   ]
  },
  {
   "cell_type": "code",
   "execution_count": 6,
   "id": "78cfba99",
   "metadata": {},
   "outputs": [
    {
     "name": "stdout",
     "output_type": "stream",
     "text": [
      "1 Children/Adolescents~(0-19 years)\n",
      "2 Young adults~(20-39 years)\n",
      "3 Middle age adults~(40-59 years)\n",
      "4 Older adults~(60+)\n",
      "--------------------\n",
      "1 $0 to $4,999\n",
      "2 $5,000 to $9,999\n",
      "3 $10,000 to $14,999\n",
      "4 $15,000 to $19,999\n",
      "5 $20,000 to $24,999\n",
      "6 $25,000 to $34,999\n",
      "7 $35,000 to $44,999\n",
      "8 $45,000 to $54,999\n",
      "9 $55,000 to $64,999\n",
      "10 $65,000 to $74,999\n",
      "14 $75,000 to $99,999\n",
      "15 $100,000 and over\n",
      "777777 Refused\n",
      "999999 Don't know\n",
      "--------------------\n",
      "1 US Citizen\n",
      "2 Not a US citizen\n",
      "777777 Refused\n",
      "999999 Don't know\n",
      "--------------------\n",
      "1 Born in the US\n",
      "3 Born outside the US\n",
      "777777 Refused\n",
      "999999 Don't know\n",
      "--------------------\n",
      "5 NHANES 2007-2008 public release\n",
      "10 NHANES 2017-2018 public release\n",
      "--------------------\n",
      "1 Less than high school degree\n",
      "2 High school grad/GED or some college/AA degree\n",
      "3 College graduate or above\n",
      "777777 Refused\n",
      "999999 Don't know\n",
      "--------------------\n",
      "1 Male\n",
      "2 Female\n",
      "--------------------\n",
      "1 Married/Living with partner\n",
      "2 Widowed/Divorced/Separated\n",
      "3 Never married\n",
      "777777 Refused\n",
      "999999 Don't know\n",
      "--------------------\n",
      "1 Mexican American\n",
      "2 Other Hispanic\n",
      "3 Non-Hispanic White\n",
      "4 Non-Hispanic Black\n",
      "5 Other Race: Including~Non-Hispanic Asian\n",
      "6 Non-Hispanic Asian\n",
      "7 Other Race\n",
      "--------------------\n",
      "1 0.00 to 1.00\n",
      "2 1.01 to 2.00\n",
      "3 2.01 to 3.00\n",
      "4 3.01 to 4.00\n",
      "5 4.01 and over\n",
      "--------------------\n",
      "1 Yes\n",
      "2 No\n",
      "777777 Refused\n",
      "999999 Don't know\n",
      "--------------------\n",
      "1 November 1 through April 30\n",
      "2 May 1 through October 31\n",
      "--------------------\n",
      "1 1 person\n",
      "2 2 people\n",
      "3 3 people\n",
      "4 4 people\n",
      "5 5 people\n",
      "6 6 people\n",
      "7 7 people or more\n",
      "--------------------\n"
     ]
    }
   ],
   "source": [
    "for table in name_list:\n",
    "    results=connection.execute(text(f\"SELECT * FROM {table}\"))\n",
    "    for i in results:\n",
    "        print(i.id,i.description)\n",
    "    print(\"-\"*20)"
   ]
  },
  {
   "cell_type": "code",
   "execution_count": 23,
   "id": "8306f64e",
   "metadata": {},
   "outputs": [
    {
     "name": "stdout",
     "output_type": "stream",
     "text": [
      "1 Married or~Living with partner\n",
      "2 Widowed, Divorced~or Separated\n",
      "3 Never married\n",
      "777777 Refused\n",
      "999999 Don't know\n"
     ]
    }
   ],
   "source": [
    "table=name_list[7]\n",
    "results=connection.execute(text(f\"SELECT * FROM {table}\"))\n",
    "for i in results:\n",
    "        print(i.id,i.description)"
   ]
  },
  {
   "cell_type": "code",
   "execution_count": 22,
   "id": "90847244",
   "metadata": {},
   "outputs": [
    {
     "data": {
      "text/plain": [
       "<sqlalchemy.engine.cursor.CursorResult at 0x1d9d09cf690>"
      ]
     },
     "execution_count": 22,
     "metadata": {},
     "output_type": "execute_result"
    }
   ],
   "source": [
    "# new_description=\"Widowed, Divorced~or Separated\"\n",
    "# select_id=\"2\"\n",
    "# connection.execute(text(f\"UPDATE {table} SET description='{new_description}' WHERE id={select_id}\"))"
   ]
  },
  {
   "cell_type": "code",
   "execution_count": 24,
   "id": "c2663fc2",
   "metadata": {},
   "outputs": [],
   "source": [
    "# connection.commit()"
   ]
  },
  {
   "cell_type": "code",
   "execution_count": null,
   "id": "25fef11c",
   "metadata": {},
   "outputs": [],
   "source": []
  }
 ],
 "metadata": {
  "kernelspec": {
   "display_name": "recipeTracker",
   "language": "python",
   "name": "recipetracker"
  },
  "language_info": {
   "codemirror_mode": {
    "name": "ipython",
    "version": 3
   },
   "file_extension": ".py",
   "mimetype": "text/x-python",
   "name": "python",
   "nbconvert_exporter": "python",
   "pygments_lexer": "ipython3",
   "version": "3.11.3"
  }
 },
 "nbformat": 4,
 "nbformat_minor": 5
}
