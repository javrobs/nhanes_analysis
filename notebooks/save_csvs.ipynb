{
 "cells": [
  {
   "cell_type": "code",
   "execution_count": 1,
   "id": "916e0d5d",
   "metadata": {},
   "outputs": [],
   "source": [
    "import csv"
   ]
  },
  {
   "cell_type": "code",
   "execution_count": 29,
   "id": "347d1bb5",
   "metadata": {},
   "outputs": [
    {
     "name": "stdout",
     "output_type": "stream",
     "text": [
      "['Table', 'Code or Value', 'Value Description']\n"
     ]
    }
   ],
   "source": [
    "with open(\"../resources/reference_tables.csv\") as file:\n",
    "    reader=csv.reader(file)\n",
    "    #Separate headers\n",
    "    headers=next(reader)\n",
    "    print(headers)\n",
    "    tables={}\n",
    "    for line in reader:\n",
    "        if (line[0] in tables) == False:\n",
    "            tables[line[0]]=[]\n",
    "        tables[line[0]].append([line[1],line[2]])"
   ]
  },
  {
   "cell_type": "code",
   "execution_count": 30,
   "id": "0d3456e7",
   "metadata": {},
   "outputs": [
    {
     "data": {
      "text/plain": [
       "['Table', 'Code or Value', 'Value Description']"
      ]
     },
     "execution_count": 30,
     "metadata": {},
     "output_type": "execute_result"
    }
   ],
   "source": [
    "headers"
   ]
  },
  {
   "cell_type": "code",
   "execution_count": 39,
   "id": "1c04c457",
   "metadata": {},
   "outputs": [],
   "source": [
    "for table_name,values in tables.items():\n",
    "    with open(f\"../resources/csv_references/{table_name}.csv\",\"w\",newline='') as file:\n",
    "        writer=csv.writer(file)\n",
    "        writer.writerow([\"Code or Value\",\"Value Description\"])\n",
    "        writer.writerows(values)"
   ]
  },
  {
   "cell_type": "code",
   "execution_count": null,
   "id": "00461443",
   "metadata": {},
   "outputs": [],
   "source": []
  }
 ],
 "metadata": {
  "kernelspec": {
   "display_name": "PythonDataJr",
   "language": "python",
   "name": "pythondatajr"
  },
  "language_info": {
   "codemirror_mode": {
    "name": "ipython",
    "version": 3
   },
   "file_extension": ".py",
   "mimetype": "text/x-python",
   "name": "python",
   "nbconvert_exporter": "python",
   "pygments_lexer": "ipython3",
   "version": "3.7.7"
  }
 },
 "nbformat": 4,
 "nbformat_minor": 5
}
