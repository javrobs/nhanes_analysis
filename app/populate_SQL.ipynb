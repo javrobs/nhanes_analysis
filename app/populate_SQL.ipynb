{
 "cells": [
  {
   "cell_type": "code",
   "execution_count": 1,
   "id": "8ab528fe",
   "metadata": {},
   "outputs": [],
   "source": [
    "from first_import import db\n",
    "import models_first_import as m"
   ]
  },
  {
   "cell_type": "code",
   "execution_count": 40,
   "id": "68b52bb3",
   "metadata": {},
   "outputs": [],
   "source": [
    "import csv\n",
    "\n",
    "\n",
    "with open(\"../resources/final_df.csv\", \"r\") as file:\n",
    "    reader=csv.reader(file)\n",
    "    header=next(reader)\n",
    "    for line in reader:\n",
    "        dict={}\n",
    "        for column,value in zip(header,line):\n",
    "            try:\n",
    "                dict[column]=float(value)\n",
    "            except:\n",
    "                pass\n",
    "        newLine=m.main_table(**dict)\n",
    "#         db.session.add(newLine)\n"
   ]
  },
  {
   "cell_type": "code",
   "execution_count": 37,
   "id": "45e5e7f5",
   "metadata": {},
   "outputs": [
    {
     "data": {
      "text/plain": [
       "2.0"
      ]
     },
     "execution_count": 37,
     "metadata": {},
     "output_type": "execute_result"
    }
   ],
   "source": [
    "newLine.age_in_years_at_screening"
   ]
  },
  {
   "cell_type": "code",
   "execution_count": 58,
   "id": "5947c918",
   "metadata": {},
   "outputs": [],
   "source": [
    "\n",
    "# Created a variable to hold the name for the primary key of each table:\n",
    "primary_key_name = 'id'\n",
    "\n",
    "# # Created a dictionary to reference each table that is related to each survey's main results table; paired the codes\n",
    "# # with their respective labels:\n",
    "# data_release_cycle_table = {primary_key_name: [5, 10], \n",
    "#                             'cycle': ['NHANES 2007-2008 public release',\n",
    "#                                       'NHANES 2017-2018 public release']}\n",
    "\n",
    "six_month_time_period_table = {primary_key_name: [1, 2],\n",
    "                               'description': ['November 1 through April 30',\n",
    "                                          'May 1 through October 31']}\n",
    "\n",
    "gender_table = {primary_key_name: [1, 2],\n",
    "                'description': ['Male',\n",
    "                           'Female']}\n",
    "\n",
    "age_groups_table = {primary_key_name: [1, 2, 3, 4],\n",
    "                    'description': ['Children/Adolescents (0-19 years)',\n",
    "                                  'Young adults (20-39 years)',\n",
    "                                  'Middle age adults (40-59 years)',\n",
    "                                  'Older adults (60+)']}\n",
    "\n",
    "race_ethnic_origin_table = {primary_key_name: [*range(1,8)],\n",
    "                            'description': ['Mexican American',\n",
    "                                          'Other Hispanic',\n",
    "                                          'Non-Hispanic White',\n",
    "                                          'Non-Hispanic Black',\n",
    "                                          'Other Race-Including Non-Hispanic Asian',\n",
    "                                          'Non-Hispanic Asian',\n",
    "                                          'Other Race']}\n",
    "\n",
    "served_in_the_us_armed_forces_table = {primary_key_name: [1, 2, 777777, 999999],\n",
    "                                   'description': ['Yes',\n",
    "                                                    'No',\n",
    "                                                    'Refused',\n",
    "                                                    \"Don't know\"]}\n",
    "\n",
    "country_of_birth_table = {primary_key_name: [1, 3, 777777, 999999],\n",
    "                          'description': ['Born in the US',\n",
    "                                      'Born outside the US',\n",
    "                                      'Refused',\n",
    "                                      \"Don't know\"]}\n",
    "\n",
    "citizenship_status_table = {primary_key_name: [1, 2, 777777, 999999],\n",
    "                            'description': ['US Citizen',\n",
    "                                       'Not a US citizen',\n",
    "                                       'Refused',\n",
    "                                       \"Don't know\"]}\n",
    "\n",
    "education_level_children_table = {primary_key_name: [0, 1, 2, 3, 4, 5, 6, 7, 8, 9, 10, 11, 12, 13, 14, 15,\n",
    "                                                                777777, 999999],\n",
    "                                             'description': ['Never Attended/Kindergarten Only',\n",
    "                                                                 '1st Grade',\n",
    "                                                                 '2nd Grade',\n",
    "                                                                 '3rd Grade',\n",
    "                                                                 '4th Grade',\n",
    "                                                                 '5th Grade',\n",
    "                                                                 '6th Grade',\n",
    "                                                                 '7th Grade',\n",
    "                                                                 '8th Grade',\n",
    "                                                                 '9th Grade',\n",
    "                                                                 '10th Grade',\n",
    "                                                                 '11th Grade',\n",
    "                                                                 '12th Grade, No Diploma',\n",
    "                                                                 'High School Graduate',\n",
    "                                                                 'GED or Equivalent',\n",
    "                                                                 'More than high school',\n",
    "                                                                 'Refused',\n",
    "                                                                 \"Don't know\"]}\n",
    "\n",
    "education_level_adults_table = {primary_key_name: [1, 2, 3, 777777, 999999],\n",
    "                                   'description': ['Less than high school degree',\n",
    "                                                       'High school grad/GED or some college/AA degree',\n",
    "                                                       'College graduate or above',\n",
    "                                                       'Refused',\n",
    "                                                       \"Don't know\"]}\n",
    "\n",
    "marital_status_table = {primary_key_name: [1, 2, 3, 777777, 999999],\n",
    "                        'description': ['Married/Living with partner',\n",
    "                                           'Widowed/Divorced/Separated',\n",
    "                                           'Never married',\n",
    "                                           'Refused',\n",
    "                                           \"Don't know\"]}\n",
    "\n",
    "total_number_of_people_table = {primary_key_name: [1, 2, 3, 4, 5, 6, 7],\n",
    "                                'description': ['1 person',\n",
    "                                                     '2 people',\n",
    "                                                     '3 people',\n",
    "                                                     '4 people',\n",
    "                                                     '5 people',\n",
    "                                                     '6 people',\n",
    "                                                     '7 people or more']}\n",
    "\n",
    "annual_income_table = {primary_key_name: [1, 2, 3, 4, 5, 6, 7, 8, 9, 10, 14, 15, 777777, 999999],\n",
    "                       'description': ['$0 to $4,999',\n",
    "                                  '$5,000 to $9,999',\n",
    "                                  '$10,000 to $14,999',\n",
    "                                  '$15,000 to $19,999',\n",
    "                                  '$20,000 to $24,999',\n",
    "                                  '$25,000 to $34,999',\n",
    "                                  '$35,000 to $44,999',\n",
    "                                  '$45,000 to $54,999',\n",
    "                                  '$55,000 to $64,999',\n",
    "                                  '$65,000 to $74,999',\n",
    "                                  '$75,000 to $99,999',\n",
    "                                  '$100,000 and over',\n",
    "                                  'Refused',\n",
    "                                  \"Don't know\"]}"
   ]
  },
  {
   "cell_type": "code",
   "execution_count": 61,
   "id": "81463bf5",
   "metadata": {},
   "outputs": [],
   "source": [
    "tables=[six_month_time_period_table,\n",
    "       gender_table,\n",
    "       age_groups_table,\n",
    "       race_ethnic_origin_table,\n",
    "       served_in_the_us_armed_forces_table,\n",
    "       country_of_birth_table,\n",
    "       citizenship_status_table,\n",
    "       education_level_children_table,\n",
    "       education_level_adults_table,\n",
    "       marital_status_table,\n",
    "       total_number_of_people_table,\n",
    "       annual_income_table]\n",
    "models=[m.six_month_time_period_table,\n",
    "       m.gender_table,\n",
    "       m.age_groups_table,\n",
    "       m.race_ethnic_origin_table,\n",
    "       m.served_in_the_us_armed_forces_table,\n",
    "       m.country_of_birth_table,\n",
    "       m.citizenship_status_table,\n",
    "       m.education_level_children_table,\n",
    "       m.education_level_adults_table,\n",
    "       m.marital_status_table,\n",
    "       m.total_number_of_people_table,\n",
    "       m.annual_income_table]\n"
   ]
  },
  {
   "cell_type": "code",
   "execution_count": 89,
   "id": "082ecc69",
   "metadata": {},
   "outputs": [],
   "source": [
    "for i in range(len(tables)):\n",
    "    for j in range(len(tables[i][\"id\"])):\n",
    "        id_code=tables[i][\"id\"][j]\n",
    "        description_code=tables[i][\"description\"][j]\n",
    "        newLine=models[i](id=id_code,description=description_code)\n",
    "        db.session.add(newLine)\n"
   ]
  },
  {
   "cell_type": "code",
   "execution_count": 96,
   "id": "dce91cf8",
   "metadata": {},
   "outputs": [
    {
     "name": "stdout",
     "output_type": "stream",
     "text": [
      "[1, 'Male']\n",
      "[2, 'Female']\n"
     ]
    }
   ],
   "source": [
    "list=m.gender_table.query.all()\n",
    "for line in list:\n",
    "    print([line.id,line.description])"
   ]
  },
  {
   "cell_type": "code",
   "execution_count": 97,
   "id": "466db873",
   "metadata": {},
   "outputs": [],
   "source": [
    "db.session.commit()"
   ]
  },
  {
   "cell_type": "code",
   "execution_count": null,
   "id": "a1c39416",
   "metadata": {},
   "outputs": [],
   "source": []
  },
  {
   "cell_type": "code",
   "execution_count": null,
   "id": "5a66def9",
   "metadata": {},
   "outputs": [],
   "source": []
  }
 ],
 "metadata": {
  "kernelspec": {
   "display_name": "PythonData",
   "language": "python",
   "name": "pythondata"
  },
  "language_info": {
   "codemirror_mode": {
    "name": "ipython",
    "version": 3
   },
   "file_extension": ".py",
   "mimetype": "text/x-python",
   "name": "python",
   "nbconvert_exporter": "python",
   "pygments_lexer": "ipython3",
   "version": "3.7.7"
  }
 },
 "nbformat": 4,
 "nbformat_minor": 5
}
