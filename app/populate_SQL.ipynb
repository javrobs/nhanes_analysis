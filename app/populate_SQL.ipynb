{
 "cells": [
  {
   "cell_type": "code",
   "execution_count": 12,
   "id": "8ab528fe",
   "metadata": {},
   "outputs": [],
   "source": [
    "from flask import Flask\n",
    "from flask_sqlalchemy import SQLAlchemy\n",
    "# from flask_migrate import Migrate\n",
    "\n",
    "class Config(object):\n",
    "    SQLALCHEMY_DATABASE_URI = \"sqlite:///../resources/nhanes.db\"\n",
    "    SQLALCHEMY_TRACK_MODIFICATIONS = False\n",
    "\n",
    "app=Flask(__name__)    \n",
    "app.config.from_object(Config)\n",
    "db=SQLAlchemy(app)\n",
    "import models_first_import as m"
   ]
  },
  {
   "cell_type": "code",
   "execution_count": 40,
   "id": "68b52bb3",
   "metadata": {},
   "outputs": [],
   "source": [
    "import csv\n",
    "\n",
    "\n",
    "with open(\"../resources/final_df.csv\", \"r\") as file:\n",
    "    reader=csv.reader(file)\n",
    "    header=next(reader)\n",
    "    for line in reader:\n",
    "        dict={}\n",
    "        for column,value in zip(header,line):\n",
    "            try:\n",
    "                dict[column]=float(value)\n",
    "            except:\n",
    "                pass\n",
    "        newLine=m.main_table(**dict)\n",
    "#         db.session.add(newLine)\n"
   ]
  },
  {
   "cell_type": "code",
   "execution_count": 37,
   "id": "45e5e7f5",
   "metadata": {},
   "outputs": [
    {
     "data": {
      "text/plain": [
       "2.0"
      ]
     },
     "execution_count": 37,
     "metadata": {},
     "output_type": "execute_result"
    }
   ],
   "source": [
    "newLine.age_in_years_at_screening"
   ]
  },
  {
   "cell_type": "code",
   "execution_count": 58,
   "id": "5947c918",
   "metadata": {},
   "outputs": [],
   "source": [
    "\n",
    "# Created a variable to hold the name for the primary key of each table:\n",
    "primary_key_name = 'id'\n",
    "\n",
    "# # Created a dictionary to reference each table that is related to each survey's main results table; paired the codes\n",
    "# # with their respective labels:\n",
    "# data_release_cycle_table = {primary_key_name: [5, 10], \n",
    "#                             'cycle': ['NHANES 2007-2008 public release',\n",
    "#                                       'NHANES 2017-2018 public release']}\n",
    "\n",
    "six_month_time_period_table = {primary_key_name: [1, 2],\n",
    "                               'description': ['November 1 through April 30',\n",
    "                                          'May 1 through October 31']}\n",
    "\n",
    "gender_table = {primary_key_name: [1, 2],\n",
    "                'description': ['Male',\n",
    "                           'Female']}\n",
    "\n",
    "age_groups_table = {primary_key_name: [1, 2, 3, 4],\n",
    "                    'description': ['Children/Adolescents (0-19 years)',\n",
    "                                  'Young adults (20-39 years)',\n",
    "                                  'Middle age adults (40-59 years)',\n",
    "                                  'Older adults (60+)']}\n",
    "\n",
    "race_ethnic_origin_table = {primary_key_name: [*range(1,8)],\n",
    "                            'description': ['Mexican American',\n",
    "                                          'Other Hispanic',\n",
    "                                          'Non-Hispanic White',\n",
    "                                          'Non-Hispanic Black',\n",
    "                                          'Other Race-Including Non-Hispanic Asian',\n",
    "                                          'Non-Hispanic Asian',\n",
    "                                          'Other Race']}\n",
    "\n",
    "served_in_the_us_armed_forces_table = {primary_key_name: [1, 2, 777777, 999999],\n",
    "                                   'description': ['Yes',\n",
    "                                                    'No',\n",
    "                                                    'Refused',\n",
    "                                                    \"Don't know\"]}\n",
    "\n",
    "country_of_birth_table = {primary_key_name: [1, 3, 777777, 999999],\n",
    "                          'description': ['Born in the US',\n",
    "                                      'Born outside the US',\n",
    "                                      'Refused',\n",
    "                                      \"Don't know\"]}\n",
    "\n",
    "citizenship_status_table = {primary_key_name: [1, 2, 777777, 999999],\n",
    "                            'description': ['US Citizen',\n",
    "                                       'Not a US citizen',\n",
    "                                       'Refused',\n",
    "                                       \"Don't know\"]}\n",
    "\n",
    "education_level_children_table = {primary_key_name: [0, 1, 2, 3, 4, 5, 6, 7, 8, 9, 10, 11, 12, 13, 14, 15,\n",
    "                                                                777777, 999999],\n",
    "                                             'description': ['Never Attended/Kindergarten Only',\n",
    "                                                                 '1st Grade',\n",
    "                                                                 '2nd Grade',\n",
    "                                                                 '3rd Grade',\n",
    "                                                                 '4th Grade',\n",
    "                                                                 '5th Grade',\n",
    "                                                                 '6th Grade',\n",
    "                                                                 '7th Grade',\n",
    "                                                                 '8th Grade',\n",
    "                                                                 '9th Grade',\n",
    "                                                                 '10th Grade',\n",
    "                                                                 '11th Grade',\n",
    "                                                                 '12th Grade, No Diploma',\n",
    "                                                                 'High School Graduate',\n",
    "                                                                 'GED or Equivalent',\n",
    "                                                                 'More than high school',\n",
    "                                                                 'Refused',\n",
    "                                                                 \"Don't know\"]}\n",
    "\n",
    "education_level_adults_table = {primary_key_name: [1, 2, 3, 777777, 999999],\n",
    "                                   'description': ['Less than high school degree',\n",
    "                                                       'High school grad/GED or some college/AA degree',\n",
    "                                                       'College graduate or above',\n",
    "                                                       'Refused',\n",
    "                                                       \"Don't know\"]}\n",
    "\n",
    "marital_status_table = {primary_key_name: [1, 2, 3, 777777, 999999],\n",
    "                        'description': ['Married/Living with partner',\n",
    "                                           'Widowed/Divorced/Separated',\n",
    "                                           'Never married',\n",
    "                                           'Refused',\n",
    "                                           \"Don't know\"]}\n",
    "\n",
    "total_number_of_people_table = {primary_key_name: [1, 2, 3, 4, 5, 6, 7],\n",
    "                                'description': ['1 person',\n",
    "                                                     '2 people',\n",
    "                                                     '3 people',\n",
    "                                                     '4 people',\n",
    "                                                     '5 people',\n",
    "                                                     '6 people',\n",
    "                                                     '7 people or more']}\n",
    "\n",
    "annual_income_table = {primary_key_name: [1, 2, 3, 4, 5, 6, 7, 8, 9, 10, 14, 15, 777777, 999999],\n",
    "                       'description': ['$0 to $4,999',\n",
    "                                  '$5,000 to $9,999',\n",
    "                                  '$10,000 to $14,999',\n",
    "                                  '$15,000 to $19,999',\n",
    "                                  '$20,000 to $24,999',\n",
    "                                  '$25,000 to $34,999',\n",
    "                                  '$35,000 to $44,999',\n",
    "                                  '$45,000 to $54,999',\n",
    "                                  '$55,000 to $64,999',\n",
    "                                  '$65,000 to $74,999',\n",
    "                                  '$75,000 to $99,999',\n",
    "                                  '$100,000 and over',\n",
    "                                  'Refused',\n",
    "                                  \"Don't know\"]}"
   ]
  },
  {
   "cell_type": "code",
   "execution_count": 61,
   "id": "81463bf5",
   "metadata": {},
   "outputs": [],
   "source": [
    "tables=[six_month_time_period_table,\n",
    "       gender_table,\n",
    "       age_groups_table,\n",
    "       race_ethnic_origin_table,\n",
    "       served_in_the_us_armed_forces_table,\n",
    "       country_of_birth_table,\n",
    "       citizenship_status_table,\n",
    "       education_level_children_table,\n",
    "       education_level_adults_table,\n",
    "       marital_status_table,\n",
    "       total_number_of_people_table,\n",
    "       annual_income_table]\n",
    "models=[m.six_month_time_period_table,\n",
    "       m.gender_table,\n",
    "       m.age_groups_table,\n",
    "       m.race_ethnic_origin_table,\n",
    "       m.served_in_the_us_armed_forces_table,\n",
    "       m.country_of_birth_table,\n",
    "       m.citizenship_status_table,\n",
    "       m.education_level_children_table,\n",
    "       m.education_level_adults_table,\n",
    "       m.marital_status_table,\n",
    "       m.total_number_of_people_table,\n",
    "       m.annual_income_table]\n"
   ]
  },
  {
   "cell_type": "code",
   "execution_count": 89,
   "id": "082ecc69",
   "metadata": {},
   "outputs": [],
   "source": [
    "for i in range(len(tables)):\n",
    "    for j in range(len(tables[i][\"id\"])):\n",
    "        id_code=tables[i][\"id\"][j]\n",
    "        description_code=tables[i][\"description\"][j]\n",
    "        newLine=models[i](id=id_code,description=description_code)\n",
    "        db.session.add(newLine)\n"
   ]
  },
  {
   "cell_type": "code",
   "execution_count": 96,
   "id": "dce91cf8",
   "metadata": {},
   "outputs": [
    {
     "name": "stdout",
     "output_type": "stream",
     "text": [
      "[1, 'Male']\n",
      "[2, 'Female']\n"
     ]
    }
   ],
   "source": [
    "list=m.gender_table.query.all()\n",
    "for line in list:\n",
    "    print([line.id,line.description])"
   ]
  },
  {
   "cell_type": "code",
   "execution_count": 97,
   "id": "466db873",
   "metadata": {},
   "outputs": [],
   "source": [
    "db.session.commit()"
   ]
  },
  {
   "cell_type": "code",
   "execution_count": null,
   "id": "4b88e3d2",
   "metadata": {},
   "outputs": [],
   "source": []
  },
  {
   "cell_type": "code",
   "execution_count": 10,
   "id": "84d09fb7",
   "metadata": {},
   "outputs": [
    {
     "data": {
      "text/plain": [
       "<sqlalchemy.orm.scoping.scoped_session at 0x2349f751d10>"
      ]
     },
     "execution_count": 10,
     "metadata": {},
     "output_type": "execute_result"
    }
   ],
   "source": [
    "db.session"
   ]
  },
  {
   "cell_type": "code",
   "execution_count": 1,
   "id": "7e3c552f",
   "metadata": {},
   "outputs": [],
   "source": [
    "from sqlalchemy import create_engine,text"
   ]
  },
  {
   "cell_type": "code",
   "execution_count": 2,
   "id": "5f25c0a7",
   "metadata": {},
   "outputs": [
    {
     "name": "stdout",
     "output_type": "stream",
     "text": [
      "(1, 'Male', 16826.541059449457, 19436.202130122714, 17654.82350219755, 28050.14735137636, 14249.260467268101, 4557)\n",
      "(2, 'Female', 13287.528606686112, 17101.23394701392, 13811.43728965672, 24692.090868297062, 14925.545352492141, 4697)\n"
     ]
    }
   ],
   "source": [
    "column=\"gender\"\n",
    "reference_table={}\n",
    "reference_table[column]=\"gender_table\"\n",
    "with create_engine(\"sqlite:///../resources/nhanes.db\").connect() as connection:\n",
    "    query=f\"\"\"\n",
    "    SELECT \n",
    "          main.{column} as value_id,\n",
    "          ref.description as desc,\n",
    "          AVG(money_spent_at_supermarket_grocery_store) as groceries,\n",
    "          AVG(money_spent_on_nonfood_items) as non_food,\n",
    "          AVG(money_spent_on_food_at_other_stores) as other_stores,\n",
    "          AVG(money_spent_on_eating_out) as eating_out,\n",
    "          AVG(money_spent_on_carryout_delivered_foods) as delivered,\n",
    "          COUNT(*) as count\n",
    "    FROM main_table main\n",
    "    INNER JOIN {reference_table[column]} ref\n",
    "    ON main.{column}=ref.id\n",
    "    WHERE main.data_release_cycle = 10\n",
    "    GROUP BY main.{column}\n",
    "    \"\"\"\n",
    "    results=connection.execute(text(query))\n",
    "for line in results:\n",
    "    print(line)"
   ]
  },
  {
   "cell_type": "code",
   "execution_count": 3,
   "id": "29314acb",
   "metadata": {},
   "outputs": [
    {
     "name": "stdout",
     "output_type": "stream",
     "text": [
      "(1, 'Male', 'delivered', 36.424882629107984, 4260)\n",
      "(1, 'Male', 'eating_out', 167.94095238095238, 4200)\n",
      "(1, 'Male', 'groceries', 461.9835294117647, 4250)\n",
      "(1, 'Male', 'non_food', 39.5140562248996, 4233)\n",
      "(1, 'Male', 'other_stores', 154.31252943947246, 4246)\n",
      "(2, 'Female', 'delivered', 33.07772965580123, 4387)\n",
      "(2, 'Female', 'eating_out', 165.49919484702093, 4347)\n",
      "(2, 'Female', 'groceries', 454.8317417007731, 4398)\n",
      "(2, 'Female', 'non_food', 38.61334552102377, 4376)\n",
      "(2, 'Female', 'other_stores', 152.16109215017065, 4395)\n"
     ]
    }
   ],
   "source": [
    "column=\"gender\"\n",
    "reference_table={}\n",
    "reference_table[column]=\"gender_table\"\n",
    "with create_engine(\"sqlite:///../resources/nhanes.db\").connect() as connection:\n",
    "    query=f\"\"\"\n",
    "    SELECT \n",
    "          main.{column} as value_id,\n",
    "          ref.description as desc,\n",
    "          'groceries' as response,\n",
    "          AVG(money_spent_at_supermarket_grocery_store) as value,\n",
    "          COUNT(*) as count\n",
    "    FROM main_table main\n",
    "    INNER JOIN {reference_table[column]} ref\n",
    "    ON main.{column}=ref.id\n",
    "    WHERE main.data_release_cycle = 10 AND money_spent_at_supermarket_grocery_store<=8400 AND money_spent_at_supermarket_grocery_store IS NOT NULL\n",
    "    GROUP BY main.{column}\n",
    "    UNION\n",
    "    SELECT \n",
    "          main.{column} as value_id,\n",
    "          ref.description as desc,\n",
    "          'non_food' as response,\n",
    "          AVG(money_spent_on_nonfood_items) as value,\n",
    "          COUNT(*) as count\n",
    "    FROM main_table main\n",
    "    INNER JOIN {reference_table[column]} ref\n",
    "    ON main.{column}=ref.id\n",
    "    WHERE main.data_release_cycle = 10 AND money_spent_on_nonfood_items<=8400 AND money_spent_on_nonfood_items IS NOT NULL\n",
    "    GROUP BY main.{column}\n",
    "    UNION\n",
    "    SELECT \n",
    "          main.{column} as value_id,\n",
    "          ref.description as desc,\n",
    "          'other_stores' as response,\n",
    "          AVG(money_spent_on_food_at_other_stores) as value,\n",
    "          COUNT(*) as count\n",
    "    FROM main_table main\n",
    "    INNER JOIN {reference_table[column]} ref\n",
    "    ON main.{column}=ref.id\n",
    "    WHERE main.data_release_cycle = 10 AND money_spent_on_food_at_other_stores<=8400 AND money_spent_on_food_at_other_stores IS NOT NULL\n",
    "    GROUP BY main.{column}\n",
    "    UNION\n",
    "    SELECT \n",
    "          main.{column} as value_id,\n",
    "          ref.description as desc,\n",
    "          'eating_out' as response,\n",
    "          AVG(money_spent_on_eating_out) as value,\n",
    "          COUNT(*) as count\n",
    "    FROM main_table main\n",
    "    INNER JOIN {reference_table[column]} ref\n",
    "    ON main.{column}=ref.id\n",
    "    WHERE main.data_release_cycle = 10 AND money_spent_on_eating_out<=8400 AND money_spent_on_eating_out IS NOT NULL\n",
    "    GROUP BY main.{column}\n",
    "    UNION\n",
    "    SELECT \n",
    "          main.{column} as value_id,\n",
    "          ref.description as desc,\n",
    "          'delivered' as response,\n",
    "          AVG(money_spent_on_carryout_delivered_foods) as value,\n",
    "          COUNT(*) as count\n",
    "    FROM main_table main\n",
    "    INNER JOIN {reference_table[column]} ref\n",
    "    ON main.{column}=ref.id\n",
    "    WHERE main.data_release_cycle = 10 AND money_spent_on_carryout_delivered_foods<=8400 AND money_spent_on_carryout_delivered_foods IS NOT NULL\n",
    "    GROUP BY main.{column}\n",
    "    \"\"\"\n",
    "    results=connection.execute(text(query))\n",
    "for line in results:\n",
    "    print(line)"
   ]
  },
  {
   "cell_type": "code",
   "execution_count": 4,
   "id": "1d126617",
   "metadata": {},
   "outputs": [
    {
     "name": "stdout",
     "output_type": "stream",
     "text": [
      "['avg_coalesce', 15402.213575220327]\n",
      "['avg', 15891.159736254387]\n",
      "['count_coalesce', 19403]\n",
      "['count', 18806]\n",
      "['sum_coalesce', 298849150.0]\n",
      "['sum', 298849150.0]\n"
     ]
    }
   ],
   "source": [
    "with create_engine(\"sqlite:///../resources/nhanes.db\").connect() as connection:\n",
    "    query=f\"\"\"\n",
    "    SELECT \n",
    "          AVG(COALESCE(money_spent_at_supermarket_grocery_store,0)) as avg_coalesce, \n",
    "          AVG(money_spent_at_supermarket_grocery_store) as avg,\n",
    "          COUNT(COALESCE(money_spent_at_supermarket_grocery_store,0)) as count_coalesce,\n",
    "          COUNT(money_spent_at_supermarket_grocery_store) as count,\n",
    "          SUM(COALESCE(money_spent_at_supermarket_grocery_store,0)) as sum_coalesce,\n",
    "          SUM(money_spent_at_supermarket_grocery_store) as sum\n",
    "    FROM main_table main\n",
    "    \"\"\"\n",
    "    results=connection.execute(text(query))\n",
    "    keys=results.keys()\n",
    "    result_dict={}\n",
    "    for result in results:\n",
    "        for key,value in zip(keys,result):\n",
    "            print([key,value])\n",
    "            result_dict[key]=value"
   ]
  },
  {
   "cell_type": "code",
   "execution_count": 5,
   "id": "132cf046",
   "metadata": {},
   "outputs": [
    {
     "data": {
      "text/plain": [
       "True"
      ]
     },
     "execution_count": 5,
     "metadata": {},
     "output_type": "execute_result"
    }
   ],
   "source": [
    "result_dict[\"sum\"]/result_dict[\"count\"]==result_dict[\"avg\"]"
   ]
  },
  {
   "cell_type": "code",
   "execution_count": 6,
   "id": "7be27fbf",
   "metadata": {},
   "outputs": [
    {
     "data": {
      "text/plain": [
       "True"
      ]
     },
     "execution_count": 6,
     "metadata": {},
     "output_type": "execute_result"
    }
   ],
   "source": [
    "result_dict[\"sum_coalesce\"]/result_dict[\"count_coalesce\"]==result_dict[\"avg_coalesce\"]"
   ]
  },
  {
   "cell_type": "code",
   "execution_count": 7,
   "id": "605529f2",
   "metadata": {},
   "outputs": [
    {
     "name": "stdout",
     "output_type": "stream",
     "text": [
      "(1, 'Male', 'delivered', 36.424882629107984, 4260)\n",
      "(1, 'Male', 'eating_out', 167.94095238095238, 4200)\n",
      "(1, 'Male', 'groceries', 461.9835294117647, 4250)\n",
      "(1, 'Male', 'non_food', 39.5140562248996, 4233)\n",
      "(1, 'Male', 'other_stores', 154.31252943947246, 4246)\n",
      "(2, 'Female', 'delivered', 33.07772965580123, 4387)\n",
      "(2, 'Female', 'eating_out', 165.49919484702093, 4347)\n",
      "(2, 'Female', 'groceries', 454.8317417007731, 4398)\n",
      "(2, 'Female', 'non_food', 38.61334552102377, 4376)\n",
      "(2, 'Female', 'other_stores', 152.16109215017065, 4395)\n"
     ]
    }
   ],
   "source": [
    "column=\"gender\"\n",
    "reference_table={}\n",
    "reference_table[column]=\"gender_table\"\n",
    "with create_engine(\"sqlite:///../resources/nhanes.db\").connect() as connection:\n",
    "    query=f\"\"\"\n",
    "    SELECT \n",
    "          main.{column} as value_id,\n",
    "          ref.description as desc,\n",
    "          'groceries' as response,\n",
    "          AVG(money_spent_at_supermarket_grocery_store) as value,\n",
    "          COUNT(*) as count\n",
    "    FROM main_table main\n",
    "    INNER JOIN {reference_table[column]} ref\n",
    "    ON main.{column}=ref.id\n",
    "    WHERE main.data_release_cycle = 10 AND money_spent_at_supermarket_grocery_store<=8400\n",
    "    GROUP BY main.{column}\n",
    "    UNION\n",
    "    SELECT \n",
    "          main.{column} as value_id,\n",
    "          ref.description as desc,\n",
    "          'non_food' as response,\n",
    "          AVG(money_spent_on_nonfood_items) as value,\n",
    "          COUNT(*) as count\n",
    "    FROM main_table main\n",
    "    INNER JOIN {reference_table[column]} ref\n",
    "    ON main.{column}=ref.id\n",
    "    WHERE main.data_release_cycle = 10 AND money_spent_on_nonfood_items<=8400\n",
    "    GROUP BY main.{column}\n",
    "    UNION\n",
    "    SELECT \n",
    "          main.{column} as value_id,\n",
    "          ref.description as desc,\n",
    "          'other_stores' as response,\n",
    "          AVG(money_spent_on_food_at_other_stores) as value,\n",
    "          COUNT(*) as count\n",
    "    FROM main_table main\n",
    "    INNER JOIN {reference_table[column]} ref\n",
    "    ON main.{column}=ref.id\n",
    "    WHERE main.data_release_cycle = 10 AND money_spent_on_food_at_other_stores<=8400\n",
    "    GROUP BY main.{column}\n",
    "    UNION\n",
    "    SELECT \n",
    "          main.{column} as value_id,\n",
    "          ref.description as desc,\n",
    "          'eating_out' as response,\n",
    "          AVG(money_spent_on_eating_out) as value,\n",
    "          COUNT(*) as count\n",
    "    FROM main_table main\n",
    "    INNER JOIN {reference_table[column]} ref\n",
    "    ON main.{column}=ref.id\n",
    "    WHERE main.data_release_cycle = 10 AND money_spent_on_eating_out<=8400\n",
    "    GROUP BY main.{column}\n",
    "    UNION\n",
    "    SELECT \n",
    "          main.{column} as value_id,\n",
    "          ref.description as desc,\n",
    "          'delivered' as response,\n",
    "          AVG(money_spent_on_carryout_delivered_foods) as value,\n",
    "          COUNT(*) as count\n",
    "    FROM main_table main\n",
    "    INNER JOIN {reference_table[column]} ref\n",
    "    ON main.{column}=ref.id\n",
    "    WHERE main.data_release_cycle = 10 AND money_spent_on_carryout_delivered_foods<=8400\n",
    "    GROUP BY main.{column}\n",
    "    \"\"\"\n",
    "    results=connection.execute(text(query))\n",
    "for line in results:\n",
    "    print(line)"
   ]
  },
  {
   "cell_type": "code",
   "execution_count": 33,
   "id": "3058ace4",
   "metadata": {},
   "outputs": [],
   "source": [
    "# connection.rollback()\n",
    "connection=create_engine(\"sqlite:///../resources/nhanes.db\").connect()"
   ]
  },
  {
   "cell_type": "code",
   "execution_count": 25,
   "id": "3bf707b1",
   "metadata": {},
   "outputs": [],
   "source": [
    "columns=[\"money_spent_at_supermarket_grocery_store\",\n",
    " \"money_spent_on_nonfood_items\",\n",
    " \"money_spent_on_food_at_other_stores\",\n",
    " \"money_spent_on_eating_out\",\n",
    " \"money_spent_on_carryout_delivered_foods\"]"
   ]
  },
  {
   "cell_type": "code",
   "execution_count": 26,
   "id": "7b370419",
   "metadata": {},
   "outputs": [],
   "source": [
    "# for col in columns:\n",
    "#     query=f\"\"\"\n",
    "#     UPDATE main_table\n",
    "#     SET {col} = NULL\n",
    "#     WHERE {col}>8400;\n",
    "#     \"\"\"\n",
    "#     results=connection.execute(text(query))"
   ]
  },
  {
   "cell_type": "code",
   "execution_count": 34,
   "id": "8ff2383b",
   "metadata": {},
   "outputs": [
    {
     "name": "stdout",
     "output_type": "stream",
     "text": [
      "value_id 1\n",
      "desc Male\n",
      "groceries 461.9835294117647\n",
      "groceries_count 4250\n",
      "non_food 39.5140562248996\n",
      "non_food_count 4233\n",
      "other_stores 154.31252943947246\n",
      "other_stores_count 4246\n",
      "eating_out 167.94095238095238\n",
      "eating_out_count 4200\n",
      "delivered 36.424882629107984\n",
      "delivered_count 4260\n",
      "count 4557\n",
      "value_id 2\n",
      "desc Female\n",
      "groceries 454.8317417007731\n",
      "groceries_count 4398\n",
      "non_food 38.61334552102377\n",
      "non_food_count 4376\n",
      "other_stores 152.16109215017065\n",
      "other_stores_count 4395\n",
      "eating_out 165.49919484702093\n",
      "eating_out_count 4347\n",
      "delivered 33.07772965580123\n",
      "delivered_count 4387\n",
      "count 4697\n"
     ]
    }
   ],
   "source": [
    "query=f\"\"\"\n",
    "SELECT \n",
    "      main.{column} as value_id,\n",
    "      ref.description as desc,\n",
    "      AVG(money_spent_at_supermarket_grocery_store) as groceries,\n",
    "      COUNT(money_spent_at_supermarket_grocery_store) as groceries_count,\n",
    "      AVG(money_spent_on_nonfood_items) as non_food,\n",
    "      COUNT(money_spent_on_nonfood_items) as non_food_count,\n",
    "      AVG(money_spent_on_food_at_other_stores) as other_stores,\n",
    "      COUNT(money_spent_on_food_at_other_stores) as other_stores_count,\n",
    "      AVG(money_spent_on_eating_out) as eating_out,\n",
    "      COUNT(money_spent_on_eating_out) as eating_out_count,\n",
    "      AVG(money_spent_on_carryout_delivered_foods) as delivered,\n",
    "      COUNT(money_spent_on_carryout_delivered_foods) as delivered_count,\n",
    "      COUNT(*) as count\n",
    "FROM main_table main\n",
    "INNER JOIN {reference_table[column]} ref\n",
    "ON main.{column}=ref.id\n",
    "WHERE main.data_release_cycle = 10\n",
    "GROUP BY main.{column}\n",
    "\"\"\"\n",
    "results=connection.execute(text(query))\n",
    "keys=results.keys()\n",
    "for line in results:\n",
    "    for key,value in zip(keys,line):\n",
    "        print(key,value)"
   ]
  },
  {
   "cell_type": "code",
   "execution_count": 32,
   "id": "6f9d75fd",
   "metadata": {},
   "outputs": [],
   "source": [
    "connection.commit()"
   ]
  },
  {
   "cell_type": "code",
   "execution_count": null,
   "id": "97cf0ad0",
   "metadata": {},
   "outputs": [],
   "source": []
  }
 ],
 "metadata": {
  "kernelspec": {
   "display_name": "recipeTracker",
   "language": "python",
   "name": "recipetracker"
  },
  "language_info": {
   "codemirror_mode": {
    "name": "ipython",
    "version": 3
   },
   "file_extension": ".py",
   "mimetype": "text/x-python",
   "name": "python",
   "nbconvert_exporter": "python",
   "pygments_lexer": "ipython3",
   "version": "3.11.3"
  }
 },
 "nbformat": 4,
 "nbformat_minor": 5
}
