{
 "cells": [
  {
   "cell_type": "code",
   "execution_count": 6,
   "id": "8ab528fe",
   "metadata": {},
   "outputs": [],
   "source": [
    "from first_import import db\n",
    "import models_first_import as m"
   ]
  },
  {
   "cell_type": "code",
   "execution_count": 7,
   "id": "68b52bb3",
   "metadata": {},
   "outputs": [
    {
     "data": {
      "text/plain": [
       "<sqlalchemy.orm.session.SignallingSession at 0x1adc7713d48>"
      ]
     },
     "execution_count": 7,
     "metadata": {},
     "output_type": "execute_result"
    }
   ],
   "source": []
  },
  {
   "cell_type": "code",
   "execution_count": 8,
   "id": "45e5e7f5",
   "metadata": {},
   "outputs": [],
   "source": [
    "# TABLE UPLOADED\n",
    "# primary_key_name='id'\n",
    "# data_release_cycle_table = {primary_key_name: [5, 10], \n",
    "#                             'cycle': ['NHANES 2007-2008 public release',\n",
    "#                                       'NHANES 2017-2018 public release']}\n",
    "\n",
    "# line=m.data_release_cycle_table(id=10,description='NHANES 2017-2018 public release')\n",
    "# db.session.add(line)"
   ]
  },
  {
   "cell_type": "code",
   "execution_count": 22,
   "id": "5947c918",
   "metadata": {},
   "outputs": [],
   "source": []
  },
  {
   "cell_type": "code",
   "execution_count": 10,
   "id": "81463bf5",
   "metadata": {},
   "outputs": [],
   "source": []
  },
  {
   "cell_type": "code",
   "execution_count": 26,
   "id": "082ecc69",
   "metadata": {},
   "outputs": [],
   "source": [
    "query=m.data_release_cycle_table.query.all()"
   ]
  },
  {
   "cell_type": "code",
   "execution_count": 27,
   "id": "dce91cf8",
   "metadata": {},
   "outputs": [
    {
     "name": "stdout",
     "output_type": "stream",
     "text": [
      "5 NHANES 2007-2008 public release\n",
      "10 NHANES 2017-2018 public release\n"
     ]
    }
   ],
   "source": [
    "for one in query:\n",
    "    print(one.id,one.description)"
   ]
  },
  {
   "cell_type": "code",
   "execution_count": 21,
   "id": "466db873",
   "metadata": {},
   "outputs": [],
   "source": [
    "db.session.commit()"
   ]
  },
  {
   "cell_type": "code",
   "execution_count": 25,
   "id": "a1c39416",
   "metadata": {},
   "outputs": [],
   "source": []
  },
  {
   "cell_type": "code",
   "execution_count": null,
   "id": "5a66def9",
   "metadata": {},
   "outputs": [],
   "source": []
  }
 ],
 "metadata": {
  "kernelspec": {
   "display_name": "PythonData",
   "language": "python",
   "name": "pythondata"
  },
  "language_info": {
   "codemirror_mode": {
    "name": "ipython",
    "version": 3
   },
   "file_extension": ".py",
   "mimetype": "text/x-python",
   "name": "python",
   "nbconvert_exporter": "python",
   "pygments_lexer": "ipython3",
   "version": "3.7.7"
  }
 },
 "nbformat": 4,
 "nbformat_minor": 5
}
